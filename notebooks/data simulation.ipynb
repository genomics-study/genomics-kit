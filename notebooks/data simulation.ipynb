{
 "cells": [
  {
   "cell_type": "code",
   "execution_count": 1,
   "metadata": {},
   "outputs": [],
   "source": [
    "import numpy as np\n",
    "from numpy.random import multivariate_normal, rand, uniform, random\n",
    "from numpy import tril"
   ]
  },
  {
   "cell_type": "code",
   "execution_count": 2,
   "metadata": {},
   "outputs": [],
   "source": [
    "import pandas as pd\n",
    "import numpy as np\n",
    "from sklearn.model_selection import KFold\n",
    "from sklearn import linear_model\n",
    "from sklearn.linear_model import LogisticRegression\n",
    "\n",
    "import sys\n",
    "sys.path.append(\"../src\")\n",
    "\n",
    "from preprocessing.preproc import *\n",
    "from validation.CV import *"
   ]
  },
  {
   "cell_type": "code",
   "execution_count": 8,
   "metadata": {},
   "outputs": [],
   "source": [
    "def data_sim():\n",
    "    no_features = 50\n",
    "    no_samples = 300\n",
    "\n",
    "    mean = uniform(low=-10.0, high=10.0, size=(no_features,))\n",
    "    variance = uniform(low=-1.0,high=1.0,size=(no_features,no_features))\n",
    "    variance = (variance + variance.T)/2\n",
    "\n",
    "    takes = multivariate_normal(mean, variance, no_samples)\n",
    "\n",
    "    size = [10, 10, 10]  # remaining p - sum(size) is reference\n",
    "\n",
    "    X_idx = [np.sum(size[:i]) for i in range(len(size) + 1)]\n",
    "    X = [takes[:, int(l):int(r)] for l, r in zip(X_idx, X_idx[1:])]\n",
    "\n",
    "    alpha = [uniform(low=-1.0, high=1.0, size=(s,)) for s in size]\n",
    "    delta = random(len(size)) * 20\n",
    "\n",
    "    val = [np.dot(x, a) for x, a in zip(X, alpha)]\n",
    "    label = [v > d for v, d in zip(val, delta)]\n",
    "\n",
    "    arr = np.empty(300, int)\n",
    "\n",
    "    for i in range(300):\n",
    "        if label[0][i] == True:\n",
    "            arr[i] = 1\n",
    "        elif label[1][i] == True:\n",
    "            arr[i] = 2\n",
    "        elif label[2][i] == True:\n",
    "            arr[i] = 3\n",
    "        else:\n",
    "            arr[i] = 4\n",
    "\n",
    "    return takes, arr"
   ]
  },
  {
   "cell_type": "code",
   "execution_count": 9,
   "metadata": {},
   "outputs": [
    {
     "name": "stderr",
     "output_type": "stream",
     "text": [
      "/home/mateusz/.local/lib/python3.6/site-packages/ipykernel_launcher.py:9: RuntimeWarning: covariance is not positive-semidefinite.\n",
      "  if __name__ == '__main__':\n"
     ]
    }
   ],
   "source": [
    "X, y = data_sim()"
   ]
  },
  {
   "cell_type": "code",
   "execution_count": 11,
   "metadata": {
    "scrolled": true
   },
   "outputs": [
    {
     "data": {
      "text/plain": [
       "{'avg_missclass': 0.11333333333333333,\n",
       " 'avg_acc': 0.8866666666666667,\n",
       " 'avg_prec': 0.8866666666666667,\n",
       " 'avg_F1': 0.8866666666666667,\n",
       " 'avg_scaled_conf_mx': array([[120.,   0.,   8.],\n",
       "        [  1.,   0.,   8.],\n",
       "        [ 17.,   0., 146.]]),\n",
       " 'avg_conf_prob_mx': array([[0.4       , 0.        , 0.02666667],\n",
       "        [0.00333333, 0.        , 0.02666667],\n",
       "        [0.05666667, 0.        , 0.48666667]])}"
      ]
     },
     "execution_count": 11,
     "metadata": {},
     "output_type": "execute_result"
    }
   ],
   "source": [
    "validator(X, y, LogisticRegression(random_state=0, solver='lbfgs',\n",
    "                         multi_class='multinomial', max_iter=5000), KFold(n_splits=3, shuffle=True))"
   ]
  }
 ],
 "metadata": {
  "kernelspec": {
   "display_name": "Python 3",
   "language": "python",
   "name": "python3"
  },
  "language_info": {
   "codemirror_mode": {
    "name": "ipython",
    "version": 3
   },
   "file_extension": ".py",
   "mimetype": "text/x-python",
   "name": "python",
   "nbconvert_exporter": "python",
   "pygments_lexer": "ipython3",
   "version": "3.6.8"
  }
 },
 "nbformat": 4,
 "nbformat_minor": 2
}
