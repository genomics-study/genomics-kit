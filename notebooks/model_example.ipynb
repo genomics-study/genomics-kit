{
 "cells": [
  {
   "cell_type": "markdown",
   "metadata": {},
   "source": [
    "# Model example usage"
   ]
  },
  {
   "cell_type": "code",
   "execution_count": 1,
   "metadata": {},
   "outputs": [],
   "source": [
    "import sys\n",
    "sys.path.append(\"../src\")"
   ]
  },
  {
   "cell_type": "code",
   "execution_count": 2,
   "metadata": {},
   "outputs": [],
   "source": [
    "from preprocessing.data_sim import data_sim\n",
    "from model.model import *\n",
    "from validation.CV import *"
   ]
  },
  {
   "cell_type": "code",
   "execution_count": 17,
   "metadata": {},
   "outputs": [],
   "source": [
    "X, y = data_sim()\n",
    "\n",
    "X_t = X[250:,:]\n",
    "y_t = y[250:]\n",
    "X = X[:250,:]\n",
    "y = y[:250]"
   ]
  },
  {
   "cell_type": "code",
   "execution_count": 22,
   "metadata": {},
   "outputs": [
    {
     "data": {
      "text/plain": [
       "array([1, 1, 4, 1, 1, 4, 1, 4, 1, 1, 4, 1, 1, 1, 1, 1, 1, 4, 1, 4, 4, 4,\n",
       "       1, 1, 4, 4, 1, 4, 4, 4, 4, 1, 1, 1, 4, 1, 1, 4, 1, 4, 1, 1, 1, 1,\n",
       "       1, 4, 1, 4, 1, 1])"
      ]
     },
     "execution_count": 22,
     "metadata": {},
     "output_type": "execute_result"
    }
   ],
   "source": [
    "y_t"
   ]
  },
  {
   "cell_type": "code",
   "execution_count": 41,
   "metadata": {
    "scrolled": false
   },
   "outputs": [
    {
     "data": {
      "text/plain": [
       "Components:\n",
       "\n",
       "('Component_0', LogisticRegression(C=1.0, class_weight=None, dual=False, fit_intercept=True,\n",
       "                   intercept_scaling=1, l1_ratio=None, max_iter=100,\n",
       "                   multi_class='multinomial', n_jobs=None, penalty='l2',\n",
       "                   random_state=None, solver='newton-cg', tol=0.0001, verbose=0,\n",
       "                   warm_start=False))\n",
       "\n",
       "('Component_1', RandomForestClassifier(bootstrap=True, class_weight=None, criterion='gini',\n",
       "                       max_depth=None, max_features='auto', max_leaf_nodes=None,\n",
       "                       min_impurity_decrease=0.0, min_impurity_split=None,\n",
       "                       min_samples_leaf=1, min_samples_split=2,\n",
       "                       min_weight_fraction_leaf=0.0, n_estimators=100,\n",
       "                       n_jobs=None, oob_score=False, random_state=None,\n",
       "                       verbose=0, warm_start=False))\n",
       "\n",
       "('Component_2', RFE(estimator=SVC(C=1.0, cache_size=200, class_weight=None, coef0=0.0,\n",
       "                  decision_function_shape='ovr', degree=3, gamma='scale',\n",
       "                  kernel='linear', max_iter=-1, probability=False,\n",
       "                  random_state=None, shrinking=True, tol=0.001, verbose=False),\n",
       "    n_features_to_select=None, step=1, verbose=1))\n",
       "\n",
       "Ensemble method:\n",
       "\n",
       "weighted arithmetic mean applied on scaled results"
      ]
     },
     "execution_count": 41,
     "metadata": {},
     "output_type": "execute_result"
    }
   ],
   "source": [
    "model = Model([LogisticRegression(penalty='l2', solver='newton-cg', multi_class='multinomial'), \n",
    "               RandomForestClassifier(n_estimators=100),\n",
    "               RFE(estimator=SVC(gamma=\"scale\", kernel=\"linear\"),verbose=1)\n",
    "              ])\n",
    "model"
   ]
  },
  {
   "cell_type": "code",
   "execution_count": 42,
   "metadata": {},
   "outputs": [
    {
     "name": "stdout",
     "output_type": "stream",
     "text": [
      "Fitting estimator with 50 features.\n",
      "Fitting estimator with 49 features.\n",
      "Fitting estimator with 48 features.\n",
      "Fitting estimator with 47 features.\n",
      "Fitting estimator with 46 features.\n",
      "Fitting estimator with 45 features.\n",
      "Fitting estimator with 44 features.\n",
      "Fitting estimator with 43 features.\n",
      "Fitting estimator with 42 features.\n",
      "Fitting estimator with 41 features.\n",
      "Fitting estimator with 40 features.\n",
      "Fitting estimator with 39 features.\n",
      "Fitting estimator with 38 features.\n",
      "Fitting estimator with 37 features.\n",
      "Fitting estimator with 36 features.\n",
      "Fitting estimator with 35 features.\n",
      "Fitting estimator with 34 features.\n",
      "Fitting estimator with 33 features.\n",
      "Fitting estimator with 32 features.\n",
      "Fitting estimator with 31 features.\n",
      "Fitting estimator with 30 features.\n",
      "Fitting estimator with 29 features.\n",
      "Fitting estimator with 28 features.\n",
      "Fitting estimator with 27 features.\n",
      "Fitting estimator with 26 features.\n"
     ]
    }
   ],
   "source": [
    "model.fit(X, y)"
   ]
  },
  {
   "cell_type": "code",
   "execution_count": 43,
   "metadata": {},
   "outputs": [
    {
     "data": {
      "text/plain": [
       "array([{'avg_missclass': 0.08, 'avg_acc': 0.92, 'avg_prec': 0.92, 'avg_F1': 0.92, 'avg_scaled_conf_mx': array([[30,  1],\n",
       "       [ 3, 16]]), 'avg_conf_prob_mx': array([[0.6 , 0.02],\n",
       "       [0.06, 0.32]])},\n",
       "       {'avg_missclass': 0.26, 'avg_acc': 0.74, 'avg_prec': 0.74, 'avg_F1': 0.74, 'avg_scaled_conf_mx': array([[29,  2],\n",
       "       [11,  8]]), 'avg_conf_prob_mx': array([[0.58, 0.04],\n",
       "       [0.22, 0.16]])},\n",
       "       {'avg_missclass': 0.1, 'avg_acc': 0.9, 'avg_prec': 0.9, 'avg_F1': 0.9, 'avg_scaled_conf_mx': array([[30,  1],\n",
       "       [ 4, 15]]), 'avg_conf_prob_mx': array([[0.6 , 0.02],\n",
       "       [0.08, 0.3 ]])}], dtype=object)"
      ]
     },
     "execution_count": 43,
     "metadata": {},
     "output_type": "execute_result"
    }
   ],
   "source": [
    "model.set_validation(Validator())\n",
    "model.validate(X_t, y_t)"
   ]
  },
  {
   "cell_type": "code",
   "execution_count": 7,
   "metadata": {},
   "outputs": [
    {
     "data": {
      "text/plain": [
       "array([[-0.00000000e+00, -3.35455106e-02,  3.31344468e-02,\n",
       "        -2.07026481e-02,  0.00000000e+00, -1.62623414e-02,\n",
       "         1.58452678e-02, -0.00000000e+00,  0.00000000e+00,\n",
       "         4.55522207e-03, -2.84729410e-03, -2.76167835e-02,\n",
       "         1.05658679e-01,  2.29736891e-02,  1.16806600e-01,\n",
       "        -3.44082812e-02, -1.21190353e-02,  2.40427822e-02,\n",
       "         5.24625405e-03,  9.18211828e-03,  0.00000000e+00,\n",
       "        -0.00000000e+00,  2.29714481e-02,  0.00000000e+00,\n",
       "        -6.64984474e-03, -0.00000000e+00, -3.90259831e-03,\n",
       "        -1.97761347e-02,  1.61120877e-02, -6.03249398e-03,\n",
       "         3.89094374e-03,  0.00000000e+00,  0.00000000e+00,\n",
       "        -0.00000000e+00, -0.00000000e+00, -1.08932745e-02,\n",
       "         2.69462638e-03, -0.00000000e+00, -0.00000000e+00,\n",
       "        -2.97773250e-02,  2.08762876e-03, -5.17681425e-03,\n",
       "        -3.89258265e-03, -1.30952199e-02,  0.00000000e+00,\n",
       "        -2.45152531e-02, -0.00000000e+00,  0.00000000e+00,\n",
       "         1.14613812e-02,  9.44988433e-03],\n",
       "       [ 2.88994829e-02,  1.89346442e-02,  1.29465656e-02,\n",
       "         1.62922820e-02,  8.78868002e-03,  1.45032219e-02,\n",
       "         2.10073088e-02,  9.57468910e-03,  2.40709405e-02,\n",
       "         1.58310040e-02,  9.17653645e-03,  1.28066492e-02,\n",
       "         8.65884773e-02,  1.41357527e-02,  1.43746405e-01,\n",
       "         1.10621627e-02,  1.09584591e-02,  1.71633857e-02,\n",
       "         2.72690750e-02,  1.60600465e-02,  7.54869434e-03,\n",
       "         1.10766459e-02,  1.51866758e-02,  3.92625442e-03,\n",
       "         1.42461349e-02,  6.56597380e-03,  2.16187010e-02,\n",
       "         1.79796598e-02,  1.37932373e-02,  2.30013440e-02,\n",
       "         2.36503743e-02,  9.85560057e-03,  2.16309233e-02,\n",
       "         1.66997415e-02,  1.91681045e-02,  9.87925582e-03,\n",
       "         1.67544814e-02,  4.24098619e-02,  1.97291622e-02,\n",
       "         1.35961755e-02,  3.17622891e-02,  6.29716747e-03,\n",
       "         1.39058765e-02,  1.53243139e-02,  9.71756821e-03,\n",
       "         3.29191811e-02,  1.40266820e-02,  1.59029587e-02,\n",
       "         4.78919033e-03,  7.22200143e-03],\n",
       "       [ 2.10000000e+01,  4.00000000e+00,  1.00000000e+00,\n",
       "         1.00000000e+00,  1.00000000e+00,  1.00000000e+00,\n",
       "         1.00000000e+00,  1.00000000e+00,  1.20000000e+01,\n",
       "         2.20000000e+01,  1.00000000e+01,  1.00000000e+00,\n",
       "         1.00000000e+00,  1.00000000e+00,  1.00000000e+00,\n",
       "         1.00000000e+00,  1.00000000e+00,  1.00000000e+00,\n",
       "         1.80000000e+01,  1.50000000e+01,  2.60000000e+01,\n",
       "         1.00000000e+00,  8.00000000e+00,  1.10000000e+01,\n",
       "         1.00000000e+00,  2.50000000e+01,  1.00000000e+00,\n",
       "         1.00000000e+00,  1.00000000e+00,  6.00000000e+00,\n",
       "         1.00000000e+00,  2.30000000e+01,  1.90000000e+01,\n",
       "         5.00000000e+00,  1.60000000e+01,  7.00000000e+00,\n",
       "         2.00000000e+00,  1.00000000e+00,  1.00000000e+00,\n",
       "         1.30000000e+01,  1.00000000e+00,  1.70000000e+01,\n",
       "         2.00000000e+01,  1.00000000e+00,  1.00000000e+00,\n",
       "         9.00000000e+00,  1.00000000e+00,  2.40000000e+01,\n",
       "         1.40000000e+01,  3.00000000e+00]])"
      ]
     },
     "execution_count": 7,
     "metadata": {},
     "output_type": "execute_result"
    }
   ],
   "source": [
    "model.feature_ranking()"
   ]
  },
  {
   "cell_type": "code",
   "execution_count": 8,
   "metadata": {
    "scrolled": true
   },
   "outputs": [
    {
     "data": {
      "text/plain": [
       "array([0.33624574, 0.19091907, 0.13739872, 0.10968022, 0.03320057,\n",
       "       0.09286018, 0.10675229, 0.03502325, 0.20966422, 0.3317611 ,\n",
       "       0.15760997, 0.1213284 , 0.5151307 , 0.11116037, 0.67948718,\n",
       "       0.13666415, 0.0728164 , 0.12123203, 0.30897479, 0.25575251,\n",
       "       0.35083799, 0.03850613, 0.20333454, 0.15013023, 0.06483265,\n",
       "       0.33573865, 0.07408901, 0.11094907, 0.09078502, 0.14747591,\n",
       "       0.078767  , 0.31772593, 0.29374966, 0.10282757, 0.2495771 ,\n",
       "       0.14373894, 0.07218268, 0.11116468, 0.05857044, 0.28317097,\n",
       "       0.09243155, 0.24732439, 0.29976491, 0.08572613, 0.03535457,\n",
       "       0.26168053, 0.04534697, 0.34456966, 0.2233004 , 0.08217595])"
      ]
     },
     "execution_count": 8,
     "metadata": {},
     "output_type": "execute_result"
    }
   ],
   "source": [
    "model.perform_voting()"
   ]
  }
 ],
 "metadata": {
  "kernelspec": {
   "display_name": "Python 3",
   "language": "python",
   "name": "python3"
  },
  "language_info": {
   "codemirror_mode": {
    "name": "ipython",
    "version": 3
   },
   "file_extension": ".py",
   "mimetype": "text/x-python",
   "name": "python",
   "nbconvert_exporter": "python",
   "pygments_lexer": "ipython3",
   "version": "3.6.8"
  }
 },
 "nbformat": 4,
 "nbformat_minor": 2
}
