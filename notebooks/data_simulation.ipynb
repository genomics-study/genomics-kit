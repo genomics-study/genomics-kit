{
 "cells": [
  {
   "cell_type": "code",
   "execution_count": 1,
   "metadata": {},
   "outputs": [],
   "source": [
    "import numpy as np\n",
    "from numpy.random import multivariate_normal, rand, uniform, random\n",
    "from numpy import tril"
   ]
  },
  {
   "cell_type": "code",
   "execution_count": 2,
   "metadata": {},
   "outputs": [],
   "source": [
    "import pandas as pd\n",
    "import numpy as np\n",
    "import scipy.linalg as la\n",
    "from sklearn.model_selection import KFold\n",
    "from sklearn import linear_model\n",
    "from sklearn.linear_model import LogisticRegression\n",
    "from scipy.stats import random_correlation\n",
    "\n",
    "import sys\n",
    "sys.path.append(\"../src\")\n",
    "\n",
    "from preprocessing.preproc import *\n",
    "from validation.CV import *"
   ]
  },
  {
   "cell_type": "code",
   "execution_count": 5,
   "metadata": {},
   "outputs": [],
   "source": [
    "def data_sim():\n",
    "    no_features = 50\n",
    "    no_samples = 300\n",
    "\n",
    "    mean = uniform(low=-10.0, high=10.0, size=(no_features,))\n",
    "    eigs = uniform(low=1.0, high=2.0, size=(no_features,))\n",
    "    s = np.diag(eigs)\n",
    "    q, _ = la.qr(uniform(low=1.0,high=2.0,size=(no_features,no_features)))\n",
    "    variance = q.T @ s @ q\n",
    "\n",
    "    takes = multivariate_normal(mean, variance, no_samples)\n",
    "\n",
    "    size = [10, 10, 10]  # remaining p - sum(size) is reference\n",
    "\n",
    "    X_idx = [np.sum(size[:i]) for i in range(len(size) + 1)]\n",
    "    X = [takes[:, int(l):int(r)] for l, r in zip(X_idx, X_idx[1:])]\n",
    "\n",
    "    alpha = [uniform(low=-1.0, high=1.0, size=(s,)) for s in size]\n",
    "    delta = random(len(size)) * 20\n",
    "\n",
    "    val = [np.dot(x, a) for x, a in zip(X, alpha)]\n",
    "    label = [v > d for v, d in zip(val, delta)]\n",
    "\n",
    "    arr = np.empty(300, int)\n",
    "\n",
    "    for i in range(300):\n",
    "        if label[0][i] == True:\n",
    "            arr[i] = 1\n",
    "        elif label[1][i] == True:\n",
    "            arr[i] = 2\n",
    "        elif label[2][i] == True:\n",
    "            arr[i] = 3\n",
    "        else:\n",
    "            arr[i] = 4\n",
    "\n",
    "    return takes, arr"
   ]
  },
  {
   "cell_type": "code",
   "execution_count": 6,
   "metadata": {},
   "outputs": [],
   "source": [
    "X, y = data_sim()"
   ]
  },
  {
   "cell_type": "code",
   "execution_count": 8,
   "metadata": {
    "scrolled": true
   },
   "outputs": [
    {
     "data": {
      "text/plain": [
       "{'avg_missclass': 0.09000000000000001,\n",
       " 'avg_acc': 0.91,\n",
       " 'avg_prec': 0.91,\n",
       " 'avg_F1': 0.91,\n",
       " 'avg_scaled_conf_mx': array([[ 94.,  13.],\n",
       "        [ 14., 179.]]),\n",
       " 'avg_conf_prob_mx': array([[0.31333333, 0.04333333],\n",
       "        [0.04666667, 0.59666667]])}"
      ]
     },
     "execution_count": 8,
     "metadata": {},
     "output_type": "execute_result"
    }
   ],
   "source": [
    "validator(X, y, LogisticRegression(random_state=0, solver='lbfgs',\n",
    "                         multi_class='multinomial', max_iter=5000), KFold(n_splits=3, shuffle=True))"
   ]
  }
 ],
 "metadata": {
  "kernelspec": {
   "display_name": "Python 3",
   "language": "python",
   "name": "python3"
  },
  "language_info": {
   "codemirror_mode": {
    "name": "ipython",
    "version": 3
   },
   "file_extension": ".py",
   "mimetype": "text/x-python",
   "name": "python",
   "nbconvert_exporter": "python",
   "pygments_lexer": "ipython3",
   "version": "3.6.8"
  }
 },
 "nbformat": 4,
 "nbformat_minor": 2
}
