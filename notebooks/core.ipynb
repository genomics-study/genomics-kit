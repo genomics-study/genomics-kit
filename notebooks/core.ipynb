{
 "cells": [
  {
   "cell_type": "code",
   "execution_count": 1,
   "metadata": {},
   "outputs": [],
   "source": [
    "import sys\n",
    "sys.path.append(\"../src\") # relative path to src dir\n",
    "\n",
    "from model.model import * "
   ]
  },
  {
   "cell_type": "code",
   "execution_count": 2,
   "metadata": {},
   "outputs": [],
   "source": [
    "# import numpy as np\n",
    "# import matplotlib.pyplot as plt\n",
    "from sklearn.datasets import load_iris \n",
    "from sklearn.model_selection import train_test_split\n",
    "# from sklearn.linear_model import Lasso, Ridge\n",
    "# from sklearn.ensemble import RandomForestClassifier\n",
    "# from sklearn.svm import SVC\n",
    "# from sklearn.feature_selection import RFE"
   ]
  },
  {
   "cell_type": "code",
   "execution_count": 26,
   "metadata": {},
   "outputs": [],
   "source": [
    "dataset = load_iris()\n",
    "X, X_t, y, y_t = train_test_split(dataset['data'], dataset['target'], test_size=0.30)"
   ]
  },
  {
   "cell_type": "code",
   "execution_count": 325,
   "metadata": {},
   "outputs": [],
   "source": [
    "available_components = {\"lasso\": Lasso, \"ridge\": Ridge, \"forrest\": RandomForestClassifier}\n",
    "available_wrappers = {\"rfe\": RFE}\n",
    "available_classifiers = {\"svm\": SVC}\n",
    "extraction_methods = [\"coef_\", \"feature_importances_\", \"ranking_\"]"
   ]
  },
  {
   "cell_type": "code",
   "execution_count": 32,
   "metadata": {},
   "outputs": [],
   "source": [
    "class MissclassificationRate:\n",
    "    def validate(X_pred, y_t):\n",
    "        return np.sum(np.round(X_pred) != y_t)/X_pred.shape[0]\n",
    "\n",
    "class JsonIOMixin:\n",
    "    def from_json(self, model_descr):\n",
    "        self.components = {}\n",
    "        available_wrapable = {**available_components, **available_classifiers}\n",
    "        for name, description in model_descr[\"components\"].items():\n",
    "            component, cmp_params = next(iter(description.items()))\n",
    "            if component in available_wrappers.keys():\n",
    "                wrapper = available_wrappers[component]\n",
    "                wrapable_keys = cmp_params.keys() & available_wrapable.keys()\n",
    "                if not wrapable_keys or len(wrapable_keys) > 1 :\n",
    "                    pass # TODO: Throw warning that wrapper won't be included because of lack of classifier/too many classifiers\n",
    "                else:\n",
    "                    wrapable_key = wrapable_keys.pop()\n",
    "                    wrapable = available_wrapable[wrapable_key](**cmp_params[wrapable_key])\n",
    "                    parsed_params = cmp_params.copy()\n",
    "                    parsed_params[\"estimator\"] = wrapable\n",
    "                    parsed_params.pop(wrapable_key,None)\n",
    "                    self.components[name] = wrapper(**parsed_params)\n",
    "            else:\n",
    "                self.components[name] = available_components[component](**cmp_params)\n",
    "        return self\n",
    "    \n",
    "    def to_json(self):\n",
    "        def reverse_dict(x):\n",
    "            return {j:i for i,j in x.items()}\n",
    "        def get_arguments(component):\n",
    "            parameter_values = component.__dict__.items()\n",
    "            constructor_argument_names = component.__init__.__code__.co_varnames\n",
    "            return {k: v for k,v in parameter_values if k in constructor_argument_names}\n",
    "        rev_components = reverse_dict(available_components)\n",
    "        rev_wrappers = reverse_dict(available_wrappers)\n",
    "        rev_wrappable = reverse_dict({**available_components, **available_classifiers})\n",
    "        output = {}\n",
    "        output['components'] = {}\n",
    "        components = self.components\n",
    "        for name, component in components.items():\n",
    "            output['components'][name] = {}\n",
    "            component_key = rev_components.get(component.__class__)\n",
    "            if component_key is not None:\n",
    "                component_params = get_arguments(component)\n",
    "                output['components'][name][component_key] = component_params\n",
    "            else:\n",
    "                component_key = rev_wrappers.get(component.__class__)\n",
    "                if component_key is not None:\n",
    "                    output['components'][name][component_key] = {}\n",
    "                    component_params = get_arguments(component)\n",
    "                    wrapped = component_params[\"estimator\"]\n",
    "                    wrapped_key = rev_wrappable.get(wrapped.__class__)\n",
    "                    if wrapped_key is not None:    \n",
    "                        output['components'][name][component_key][wrapped_key] = get_arguments(wrapped)\n",
    "                        for k,v in component_params.items():\n",
    "                            if k is not 'estimator':\n",
    "                                output['components'][name][component_key][k] = v\n",
    "                    else:\n",
    "                        pass # unsuported wrappable error\n",
    "                    \n",
    "                else:\n",
    "                    pass # unsuported component/wrapper \n",
    "        return output\n",
    "    \n",
    "class Model(JsonIOMixin):\n",
    "    def __init__(self, components=[], ensemble=None, validation=None):\n",
    "        self.ensemble = ensemble\n",
    "        self.validation = validation\n",
    "        if type(components) is dict:\n",
    "            self.components = components\n",
    "        elif type(components) is list:\n",
    "            self.components = {\"Component_{0}\".format(name) : component for name, component in enumerate(components)}\n",
    "        else:\n",
    "            pass # throw custom error\n",
    "    \n",
    "    def add_component(self, new_component):\n",
    "        self.components.append(new_component)\n",
    "    \n",
    "    def set_ensemble(self, ensemble_method):\n",
    "        self.ensemble_method = ensemble_method\n",
    "        \n",
    "    def set_validation(self, validation):\n",
    "        self.validation = validation\n",
    "    \n",
    "    def fit(self, X, y):\n",
    "        for component in self.components.values():\n",
    "            component.fit(X, y)\n",
    "    \n",
    "    def predict(self, X):\n",
    "        return np.array([component.predict(X) for component in self.components.values()])\n",
    "    \n",
    "    def validate(self, X_t, y_t):\n",
    "        if self.validation is not None:\n",
    "            predictions = self.predict(X_t)\n",
    "            return np.array([self.validation.validate(pred, y_t) for pred in predictions])\n",
    "        else:\n",
    "            pass # throw custom exception NoValidationSpecified\n",
    "    \n",
    "    def feature_ranking(self):\n",
    "        def _get_proper_attribute(component):\n",
    "            component_methods = set(dir(component))\n",
    "            found_method = (component_methods & set(extraction_methods)).pop()\n",
    "            return getattr(component, found_method)\n",
    "        return np.array([_get_proper_attribute(component) for component in self.components.values()])\n",
    "        \n",
    "    def __repr__(self):\n",
    "        return \"Components:\\n\\n\" + \"\\n\\n\".join([str(c) for c in self.components.items()]) + \"\\n\\nEnsemble method:\\n\\n[TODO]\""
   ]
  },
  {
   "cell_type": "code",
   "execution_count": 27,
   "metadata": {},
   "outputs": [
    {
     "data": {
      "text/plain": [
       "Components:\n",
       "\n",
       "('Component_0', Lasso(alpha=0.1, copy_X=True, fit_intercept=True, max_iter=1000,\n",
       "      normalize=False, positive=False, precompute=False, random_state=None,\n",
       "      selection='cyclic', tol=0.0001, warm_start=False))\n",
       "\n",
       "('Component_1', Ridge(alpha=0.1, copy_X=True, fit_intercept=True, max_iter=None,\n",
       "      normalize=False, random_state=None, solver='auto', tol=0.001))\n",
       "\n",
       "('Component_2', RandomForestClassifier(bootstrap=True, class_weight=None, criterion='gini',\n",
       "                       max_depth=None, max_features='auto', max_leaf_nodes=None,\n",
       "                       min_impurity_decrease=0.0, min_impurity_split=None,\n",
       "                       min_samples_leaf=1, min_samples_split=2,\n",
       "                       min_weight_fraction_leaf=0.0, n_estimators=100,\n",
       "                       n_jobs=None, oob_score=False, random_state=None,\n",
       "                       verbose=0, warm_start=False))\n",
       "\n",
       "('Component_3', RFE(estimator=SVC(C=1.0, cache_size=200, class_weight=None, coef0=0.0,\n",
       "                  decision_function_shape='ovr', degree=3, gamma='scale',\n",
       "                  kernel='linear', max_iter=-1, probability=False,\n",
       "                  random_state=None, shrinking=True, tol=0.001, verbose=False),\n",
       "    n_features_to_select=None, step=1, verbose=1))\n",
       "\n",
       "('Component_4', RFE(estimator=Ridge(alpha=0.1, copy_X=True, fit_intercept=True, max_iter=None,\n",
       "                    normalize=False, random_state=None, solver='auto',\n",
       "                    tol=0.001),\n",
       "    n_features_to_select=None, step=1, verbose=0))\n",
       "\n",
       "Ensemble method:\n",
       "\n",
       "[TODO]"
      ]
     },
     "execution_count": 27,
     "metadata": {},
     "output_type": "execute_result"
    }
   ],
   "source": [
    "model = Model([Lasso(alpha=0.1), \n",
    "               Ridge(alpha=0.1), \n",
    "               RandomForestClassifier(n_estimators=100),\n",
    "               RFE(estimator=SVC(gamma=\"scale\", kernel=\"linear\"),verbose=1),\n",
    "               RFE(estimator=Ridge(alpha=0.1))\n",
    "              ])\n",
    "model"
   ]
  },
  {
   "cell_type": "code",
   "execution_count": 28,
   "metadata": {},
   "outputs": [
    {
     "data": {
      "text/plain": [
       "{'components': {'Component_0': {'lasso': {'alpha': 0.1,\n",
       "    'fit_intercept': True,\n",
       "    'normalize': False,\n",
       "    'precompute': False,\n",
       "    'max_iter': 1000,\n",
       "    'copy_X': True,\n",
       "    'tol': 0.0001,\n",
       "    'warm_start': False,\n",
       "    'positive': False,\n",
       "    'random_state': None,\n",
       "    'selection': 'cyclic'}},\n",
       "  'Component_1': {'ridge': {'alpha': 0.1,\n",
       "    'fit_intercept': True,\n",
       "    'normalize': False,\n",
       "    'copy_X': True,\n",
       "    'max_iter': None,\n",
       "    'tol': 0.001,\n",
       "    'solver': 'auto',\n",
       "    'random_state': None}},\n",
       "  'Component_2': {'forrest': {'n_estimators': 100,\n",
       "    'bootstrap': True,\n",
       "    'oob_score': False,\n",
       "    'n_jobs': None,\n",
       "    'random_state': None,\n",
       "    'verbose': 0,\n",
       "    'warm_start': False,\n",
       "    'class_weight': None,\n",
       "    'criterion': 'gini',\n",
       "    'max_depth': None,\n",
       "    'min_samples_split': 2,\n",
       "    'min_samples_leaf': 1,\n",
       "    'min_weight_fraction_leaf': 0.0,\n",
       "    'max_features': 'auto',\n",
       "    'max_leaf_nodes': None,\n",
       "    'min_impurity_decrease': 0.0,\n",
       "    'min_impurity_split': None}},\n",
       "  'Component_3': {'rfe': {'svm': {'decision_function_shape': 'ovr',\n",
       "     'kernel': 'linear',\n",
       "     'degree': 3,\n",
       "     'gamma': 'scale',\n",
       "     'coef0': 0.0,\n",
       "     'tol': 0.001,\n",
       "     'C': 1.0,\n",
       "     'shrinking': True,\n",
       "     'probability': False,\n",
       "     'cache_size': 200,\n",
       "     'class_weight': None,\n",
       "     'verbose': False,\n",
       "     'max_iter': -1,\n",
       "     'random_state': None},\n",
       "    'n_features_to_select': None,\n",
       "    'step': 1,\n",
       "    'verbose': 1}},\n",
       "  'Component_4': {'rfe': {'ridge': {'alpha': 0.1,\n",
       "     'fit_intercept': True,\n",
       "     'normalize': False,\n",
       "     'copy_X': True,\n",
       "     'max_iter': None,\n",
       "     'tol': 0.001,\n",
       "     'solver': 'auto',\n",
       "     'random_state': None},\n",
       "    'n_features_to_select': None,\n",
       "    'step': 1,\n",
       "    'verbose': 0}}}}"
      ]
     },
     "execution_count": 28,
     "metadata": {},
     "output_type": "execute_result"
    }
   ],
   "source": [
    "json_test = model.to_json()\n",
    "json_test"
   ]
  },
  {
   "cell_type": "code",
   "execution_count": 29,
   "metadata": {},
   "outputs": [
    {
     "data": {
      "text/plain": [
       "Components:\n",
       "\n",
       "('Component_0', Lasso(alpha=0.1, copy_X=True, fit_intercept=True, max_iter=1000,\n",
       "      normalize=False, positive=False, precompute=False, random_state=None,\n",
       "      selection='cyclic', tol=0.0001, warm_start=False))\n",
       "\n",
       "('Component_1', Ridge(alpha=0.1, copy_X=True, fit_intercept=True, max_iter=None,\n",
       "      normalize=False, random_state=None, solver='auto', tol=0.001))\n",
       "\n",
       "('Component_2', RandomForestClassifier(bootstrap=True, class_weight=None, criterion='gini',\n",
       "                       max_depth=None, max_features='auto', max_leaf_nodes=None,\n",
       "                       min_impurity_decrease=0.0, min_impurity_split=None,\n",
       "                       min_samples_leaf=1, min_samples_split=2,\n",
       "                       min_weight_fraction_leaf=0.0, n_estimators=100,\n",
       "                       n_jobs=None, oob_score=False, random_state=None,\n",
       "                       verbose=0, warm_start=False))\n",
       "\n",
       "('Component_3', RFE(estimator=SVC(C=1.0, cache_size=200, class_weight=None, coef0=0.0,\n",
       "                  decision_function_shape='ovr', degree=3, gamma='scale',\n",
       "                  kernel='linear', max_iter=-1, probability=False,\n",
       "                  random_state=None, shrinking=True, tol=0.001, verbose=False),\n",
       "    n_features_to_select=None, step=1, verbose=1))\n",
       "\n",
       "('Component_4', RFE(estimator=Ridge(alpha=0.1, copy_X=True, fit_intercept=True, max_iter=None,\n",
       "                    normalize=False, random_state=None, solver='auto',\n",
       "                    tol=0.001),\n",
       "    n_features_to_select=None, step=1, verbose=0))\n",
       "\n",
       "Ensemble method:\n",
       "\n",
       "[TODO]"
      ]
     },
     "execution_count": 29,
     "metadata": {},
     "output_type": "execute_result"
    }
   ],
   "source": [
    "model = Model().from_json(json_test)\n",
    "model"
   ]
  },
  {
   "cell_type": "code",
   "execution_count": 30,
   "metadata": {},
   "outputs": [
    {
     "name": "stdout",
     "output_type": "stream",
     "text": [
      "Fitting estimator with 4 features.\n",
      "Fitting estimator with 3 features.\n"
     ]
    }
   ],
   "source": [
    "model.fit(X, y)"
   ]
  },
  {
   "cell_type": "code",
   "execution_count": 31,
   "metadata": {},
   "outputs": [
    {
     "ename": "NameError",
     "evalue": "name 'y_t' is not defined",
     "output_type": "error",
     "traceback": [
      "\u001b[0;31m---------------------------------------------------------------------------\u001b[0m",
      "\u001b[0;31mNameError\u001b[0m                                 Traceback (most recent call last)",
      "\u001b[0;32m<ipython-input-31-0112576569c8>\u001b[0m in \u001b[0;36m<module>\u001b[0;34m\u001b[0m\n\u001b[1;32m      1\u001b[0m \u001b[0mmodel\u001b[0m\u001b[0;34m.\u001b[0m\u001b[0mset_validation\u001b[0m\u001b[0;34m(\u001b[0m\u001b[0mMissclassificationRate\u001b[0m\u001b[0;34m)\u001b[0m\u001b[0;34m\u001b[0m\u001b[0;34m\u001b[0m\u001b[0m\n\u001b[0;32m----> 2\u001b[0;31m \u001b[0mmodel\u001b[0m\u001b[0;34m.\u001b[0m\u001b[0mvalidate\u001b[0m\u001b[0;34m(\u001b[0m\u001b[0mX_t\u001b[0m\u001b[0;34m,\u001b[0m \u001b[0my_t\u001b[0m\u001b[0;34m)\u001b[0m\u001b[0;34m\u001b[0m\u001b[0;34m\u001b[0m\u001b[0m\n\u001b[0m",
      "\u001b[0;32m~/Desktop/inzynierka/genomics-kit/src/model/model.py\u001b[0m in \u001b[0;36mvalidate\u001b[0;34m(self, X, y)\u001b[0m\n\u001b[1;32m    107\u001b[0m         \u001b[0;32mif\u001b[0m \u001b[0mself\u001b[0m\u001b[0;34m.\u001b[0m\u001b[0mvalidation\u001b[0m \u001b[0;32mis\u001b[0m \u001b[0;32mnot\u001b[0m \u001b[0;32mNone\u001b[0m\u001b[0;34m:\u001b[0m\u001b[0;34m\u001b[0m\u001b[0;34m\u001b[0m\u001b[0m\n\u001b[1;32m    108\u001b[0m             \u001b[0mpredictions\u001b[0m \u001b[0;34m=\u001b[0m \u001b[0mself\u001b[0m\u001b[0;34m.\u001b[0m\u001b[0mpredict\u001b[0m\u001b[0;34m(\u001b[0m\u001b[0mX\u001b[0m\u001b[0;34m)\u001b[0m\u001b[0;34m\u001b[0m\u001b[0;34m\u001b[0m\u001b[0m\n\u001b[0;32m--> 109\u001b[0;31m             \u001b[0;32mreturn\u001b[0m \u001b[0mnp\u001b[0m\u001b[0;34m.\u001b[0m\u001b[0marray\u001b[0m\u001b[0;34m(\u001b[0m\u001b[0;34m[\u001b[0m\u001b[0mself\u001b[0m\u001b[0;34m.\u001b[0m\u001b[0mvalidation\u001b[0m\u001b[0;34m.\u001b[0m\u001b[0mvalidate\u001b[0m\u001b[0;34m(\u001b[0m\u001b[0mpred\u001b[0m\u001b[0;34m,\u001b[0m \u001b[0my_t\u001b[0m\u001b[0;34m)\u001b[0m \u001b[0;32mfor\u001b[0m \u001b[0mpred\u001b[0m \u001b[0;32min\u001b[0m \u001b[0mpredictions\u001b[0m\u001b[0;34m]\u001b[0m\u001b[0;34m)\u001b[0m\u001b[0;34m\u001b[0m\u001b[0;34m\u001b[0m\u001b[0m\n\u001b[0m\u001b[1;32m    110\u001b[0m         \u001b[0;32melse\u001b[0m\u001b[0;34m:\u001b[0m\u001b[0;34m\u001b[0m\u001b[0;34m\u001b[0m\u001b[0m\n\u001b[1;32m    111\u001b[0m             \u001b[0;32mpass\u001b[0m \u001b[0;31m# throw custom exception NoValidationSpecified\u001b[0m\u001b[0;34m\u001b[0m\u001b[0;34m\u001b[0m\u001b[0m\n",
      "\u001b[0;32m~/Desktop/inzynierka/genomics-kit/src/model/model.py\u001b[0m in \u001b[0;36m<listcomp>\u001b[0;34m(.0)\u001b[0m\n\u001b[1;32m    107\u001b[0m         \u001b[0;32mif\u001b[0m \u001b[0mself\u001b[0m\u001b[0;34m.\u001b[0m\u001b[0mvalidation\u001b[0m \u001b[0;32mis\u001b[0m \u001b[0;32mnot\u001b[0m \u001b[0;32mNone\u001b[0m\u001b[0;34m:\u001b[0m\u001b[0;34m\u001b[0m\u001b[0;34m\u001b[0m\u001b[0m\n\u001b[1;32m    108\u001b[0m             \u001b[0mpredictions\u001b[0m \u001b[0;34m=\u001b[0m \u001b[0mself\u001b[0m\u001b[0;34m.\u001b[0m\u001b[0mpredict\u001b[0m\u001b[0;34m(\u001b[0m\u001b[0mX\u001b[0m\u001b[0;34m)\u001b[0m\u001b[0;34m\u001b[0m\u001b[0;34m\u001b[0m\u001b[0m\n\u001b[0;32m--> 109\u001b[0;31m             \u001b[0;32mreturn\u001b[0m \u001b[0mnp\u001b[0m\u001b[0;34m.\u001b[0m\u001b[0marray\u001b[0m\u001b[0;34m(\u001b[0m\u001b[0;34m[\u001b[0m\u001b[0mself\u001b[0m\u001b[0;34m.\u001b[0m\u001b[0mvalidation\u001b[0m\u001b[0;34m.\u001b[0m\u001b[0mvalidate\u001b[0m\u001b[0;34m(\u001b[0m\u001b[0mpred\u001b[0m\u001b[0;34m,\u001b[0m \u001b[0my_t\u001b[0m\u001b[0;34m)\u001b[0m \u001b[0;32mfor\u001b[0m \u001b[0mpred\u001b[0m \u001b[0;32min\u001b[0m \u001b[0mpredictions\u001b[0m\u001b[0;34m]\u001b[0m\u001b[0;34m)\u001b[0m\u001b[0;34m\u001b[0m\u001b[0;34m\u001b[0m\u001b[0m\n\u001b[0m\u001b[1;32m    110\u001b[0m         \u001b[0;32melse\u001b[0m\u001b[0;34m:\u001b[0m\u001b[0;34m\u001b[0m\u001b[0;34m\u001b[0m\u001b[0m\n\u001b[1;32m    111\u001b[0m             \u001b[0;32mpass\u001b[0m \u001b[0;31m# throw custom exception NoValidationSpecified\u001b[0m\u001b[0;34m\u001b[0m\u001b[0;34m\u001b[0m\u001b[0m\n",
      "\u001b[0;31mNameError\u001b[0m: name 'y_t' is not defined"
     ]
    }
   ],
   "source": [
    "model.set_validation(MissclassificationRate)\n",
    "model.validate(X_t, y_t)"
   ]
  },
  {
   "cell_type": "code",
   "execution_count": 322,
   "metadata": {},
   "outputs": [
    {
     "data": {
      "text/plain": [
       "array([[ 0.        , -0.        ,  0.40912833,  0.        ],\n",
       "       [-0.16387339,  0.01387292,  0.25413989,  0.62046622],\n",
       "       [ 0.12863782,  0.02991082,  0.42897123,  0.41248013],\n",
       "       [ 3.        ,  2.        ,  1.        ,  1.        ],\n",
       "       [ 2.        ,  3.        ,  1.        ,  1.        ]])"
      ]
     },
     "execution_count": 322,
     "metadata": {},
     "output_type": "execute_result"
    }
   ],
   "source": [
    "model.feature_ranking()"
   ]
  },
  {
   "cell_type": "code",
   "execution_count": null,
   "metadata": {},
   "outputs": [],
   "source": []
  }
 ],
 "metadata": {
  "kernelspec": {
   "display_name": "Python 3",
   "language": "python",
   "name": "python3"
  },
  "language_info": {
   "codemirror_mode": {
    "name": "ipython",
    "version": 3
   },
   "file_extension": ".py",
   "mimetype": "text/x-python",
   "name": "python",
   "nbconvert_exporter": "python",
   "pygments_lexer": "ipython3",
   "version": "3.6.8"
  }
 },
 "nbformat": 4,
 "nbformat_minor": 2
}
