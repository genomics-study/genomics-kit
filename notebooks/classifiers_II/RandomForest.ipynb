{
 "cells": [
  {
   "cell_type": "code",
   "execution_count": 2,
   "metadata": {
    "collapsed": false
   },
   "outputs": [],
   "source": [
    "import numpy as np\n",
    "import pandas as pd\n",
    "import sys\n",
    "\n",
    "from sklearn.model_selection import train_test_split\n",
    "from sklearn.preprocessing import StandardScaler\n",
    "from sklearn.ensemble import RandomForestClassifier, RandomForestRegressor\n",
    "from sklearn.metrics import classification_report, confusion_matrix, accuracy_score"
   ]
  },
  {
   "cell_type": "code",
   "execution_count": 3,
   "metadata": {
    "collapsed": true
   },
   "outputs": [],
   "source": [
    "data = pd.read_csv(\"bill_authentication.csv\")"
   ]
  },
  {
   "cell_type": "code",
   "execution_count": 4,
   "metadata": {
    "collapsed": false,
    "scrolled": true
   },
   "outputs": [
    {
     "data": {
      "text/html": [
       "<div>\n",
       "<table border=\"1\" class=\"dataframe\">\n",
       "  <thead>\n",
       "    <tr style=\"text-align: right;\">\n",
       "      <th></th>\n",
       "      <th>Variance</th>\n",
       "      <th>Skewness</th>\n",
       "      <th>Curtosis</th>\n",
       "      <th>Entropy</th>\n",
       "      <th>Class</th>\n",
       "    </tr>\n",
       "  </thead>\n",
       "  <tbody>\n",
       "    <tr>\n",
       "      <th>0</th>\n",
       "      <td>3.62160</td>\n",
       "      <td>8.6661</td>\n",
       "      <td>-2.8073</td>\n",
       "      <td>-0.44699</td>\n",
       "      <td>0</td>\n",
       "    </tr>\n",
       "    <tr>\n",
       "      <th>1</th>\n",
       "      <td>4.54590</td>\n",
       "      <td>8.1674</td>\n",
       "      <td>-2.4586</td>\n",
       "      <td>-1.46210</td>\n",
       "      <td>0</td>\n",
       "    </tr>\n",
       "    <tr>\n",
       "      <th>2</th>\n",
       "      <td>3.86600</td>\n",
       "      <td>-2.6383</td>\n",
       "      <td>1.9242</td>\n",
       "      <td>0.10645</td>\n",
       "      <td>0</td>\n",
       "    </tr>\n",
       "    <tr>\n",
       "      <th>3</th>\n",
       "      <td>3.45660</td>\n",
       "      <td>9.5228</td>\n",
       "      <td>-4.0112</td>\n",
       "      <td>-3.59440</td>\n",
       "      <td>0</td>\n",
       "    </tr>\n",
       "    <tr>\n",
       "      <th>4</th>\n",
       "      <td>0.32924</td>\n",
       "      <td>-4.4552</td>\n",
       "      <td>4.5718</td>\n",
       "      <td>-0.98880</td>\n",
       "      <td>0</td>\n",
       "    </tr>\n",
       "  </tbody>\n",
       "</table>\n",
       "</div>"
      ],
      "text/plain": [
       "   Variance  Skewness  Curtosis  Entropy  Class\n",
       "0   3.62160    8.6661   -2.8073 -0.44699      0\n",
       "1   4.54590    8.1674   -2.4586 -1.46210      0\n",
       "2   3.86600   -2.6383    1.9242  0.10645      0\n",
       "3   3.45660    9.5228   -4.0112 -3.59440      0\n",
       "4   0.32924   -4.4552    4.5718 -0.98880      0"
      ]
     },
     "execution_count": 4,
     "metadata": {},
     "output_type": "execute_result"
    }
   ],
   "source": [
    "data.head()"
   ]
  },
  {
   "cell_type": "code",
   "execution_count": 5,
   "metadata": {
    "collapsed": true
   },
   "outputs": [],
   "source": [
    "def split_data_into_train_and_test(data, test_size=0.2, random_state=0):\n",
    "    c = len(data.columns)\n",
    "    X = data.iloc[:, 0:c-1].values\n",
    "    y = data.iloc[:, c-1].values\n",
    "    X_train, X_test, y_train, y_test = train_test_split(X, y, test_size=test_size, random_state=random_state)\n",
    "    return X_train, X_test, y_train, y_test\n",
    "    \n",
    "    \n",
    "def scale_X_values(X_train, X_test):\n",
    "    scaler = StandardScaler()\n",
    "    X_train = scaler.fit_transform(X_train)\n",
    "    X_test = scaler.transform(X_test)\n",
    "    \n",
    "    \n",
    "def get_classifier(X_train, y_train, n_estimators=20, random_state=0):\n",
    "    classifier = RandomForestClassifier(n_estimators=n_estimators, random_state=random_state)\n",
    "    classifier.fit(X_train, y_train)\n",
    "    return classifier\n",
    "\n",
    "\n",
    "def test_classifier(classifier, X_test, y_test):\n",
    "    y_pred = classifier.predict(X_test)\n",
    "    \n",
    "    conf_matrix = confusion_matrix(y_test, y_pred)\n",
    "    print(\"Confusion matrix:\", conf_matrix, \"\\n\", sep=\"\\n\")\n",
    "    \n",
    "    class_report = classification_report(y_test, y_pred)\n",
    "    print(\"Classification_report:\", class_report,\"\\n\", sep=\"\\n\")\n",
    "    \n",
    "    accuracy = accuracy_score(y_test, y_pred)\n",
    "    print(\"Accuracy_score:\", accuracy, sep=\"\\n\")\n",
    "    \n",
    "    return accuracy, class_report, conf_matrix\n",
    "\n",
    "\n",
    "def proceed_testing_random_forest_classifier(data, n_estimators=20, test_size=0.2, random_state=0):\n",
    "    X_train, X_test, y_train, y_test = split_data_into_train_and_test(data, test_size, random_state)\n",
    "    scale_X_values(X_train, X_test)\n",
    "    classifier = get_classifier(X_train, y_train, n_estimators=n_estimators, random_state=random_state)\n",
    "    test_classifier(classifier, X_test, y_test)"
   ]
  },
  {
   "cell_type": "code",
   "execution_count": 6,
   "metadata": {
    "collapsed": false
   },
   "outputs": [
    {
     "name": "stdout",
     "output_type": "stream",
     "text": [
      "Confusion matrix:\n",
      "[[155   2]\n",
      " [  1 117]]\n",
      "\n",
      "\n",
      "Classification_report:\n",
      "             precision    recall  f1-score   support\n",
      "\n",
      "          0       0.99      0.99      0.99       157\n",
      "          1       0.98      0.99      0.99       118\n",
      "\n",
      "avg / total       0.99      0.99      0.99       275\n",
      "\n",
      "\n",
      "\n",
      "Accuracy_score:\n",
      "0.9890909090909091\n"
     ]
    }
   ],
   "source": [
    "proceed_testing_random_forest_classifier(data)"
   ]
  },
  {
   "cell_type": "code",
   "execution_count": 7,
   "metadata": {
    "collapsed": false
   },
   "outputs": [
    {
     "name": "stdout",
     "output_type": "stream",
     "text": [
      "Confusion matrix:\n",
      "[[153   4]\n",
      " [  7 111]]\n",
      "\n",
      "\n",
      "Classification_report:\n",
      "             precision    recall  f1-score   support\n",
      "\n",
      "          0       0.96      0.97      0.97       157\n",
      "          1       0.97      0.94      0.95       118\n",
      "\n",
      "avg / total       0.96      0.96      0.96       275\n",
      "\n",
      "\n",
      "\n",
      "Accuracy_score:\n",
      "0.96\n"
     ]
    }
   ],
   "source": [
    "proceed_testing_random_forest_classifier(data, 1)"
   ]
  },
  {
   "cell_type": "code",
   "execution_count": 8,
   "metadata": {
    "collapsed": false
   },
   "outputs": [
    {
     "name": "stdout",
     "output_type": "stream",
     "text": [
      "Confusion matrix:\n",
      "[[156   1]\n",
      " [  8 110]]\n",
      "\n",
      "\n",
      "Classification_report:\n",
      "             precision    recall  f1-score   support\n",
      "\n",
      "          0       0.95      0.99      0.97       157\n",
      "          1       0.99      0.93      0.96       118\n",
      "\n",
      "avg / total       0.97      0.97      0.97       275\n",
      "\n",
      "\n",
      "\n",
      "Accuracy_score:\n",
      "0.9672727272727273\n"
     ]
    }
   ],
   "source": [
    "proceed_testing_random_forest_classifier(data, 2)"
   ]
  },
  {
   "cell_type": "code",
   "execution_count": 9,
   "metadata": {
    "collapsed": false
   },
   "outputs": [
    {
     "name": "stdout",
     "output_type": "stream",
     "text": [
      "Confusion matrix:\n",
      "[[154   3]\n",
      " [  2 116]]\n",
      "\n",
      "\n",
      "Classification_report:\n",
      "             precision    recall  f1-score   support\n",
      "\n",
      "          0       0.99      0.98      0.98       157\n",
      "          1       0.97      0.98      0.98       118\n",
      "\n",
      "avg / total       0.98      0.98      0.98       275\n",
      "\n",
      "\n",
      "\n",
      "Accuracy_score:\n",
      "0.9818181818181818\n"
     ]
    }
   ],
   "source": [
    "proceed_testing_random_forest_classifier(data, 3)"
   ]
  },
  {
   "cell_type": "code",
   "execution_count": 10,
   "metadata": {
    "collapsed": false
   },
   "outputs": [
    {
     "name": "stdout",
     "output_type": "stream",
     "text": [
      "Confusion matrix:\n",
      "[[155   2]\n",
      " [  3 115]]\n",
      "\n",
      "\n",
      "Classification_report:\n",
      "             precision    recall  f1-score   support\n",
      "\n",
      "          0       0.98      0.99      0.98       157\n",
      "          1       0.98      0.97      0.98       118\n",
      "\n",
      "avg / total       0.98      0.98      0.98       275\n",
      "\n",
      "\n",
      "\n",
      "Accuracy_score:\n",
      "0.9818181818181818\n"
     ]
    }
   ],
   "source": [
    "proceed_testing_random_forest_classifier(data, 4)"
   ]
  },
  {
   "cell_type": "code",
   "execution_count": 11,
   "metadata": {
    "collapsed": false
   },
   "outputs": [
    {
     "name": "stdout",
     "output_type": "stream",
     "text": [
      "Confusion matrix:\n",
      "[[155   2]\n",
      " [  1 117]]\n",
      "\n",
      "\n",
      "Classification_report:\n",
      "             precision    recall  f1-score   support\n",
      "\n",
      "          0       0.99      0.99      0.99       157\n",
      "          1       0.98      0.99      0.99       118\n",
      "\n",
      "avg / total       0.99      0.99      0.99       275\n",
      "\n",
      "\n",
      "\n",
      "Accuracy_score:\n",
      "0.9890909090909091\n"
     ]
    }
   ],
   "source": [
    "proceed_testing_random_forest_classifier(data, 5)"
   ]
  },
  {
   "cell_type": "code",
   "execution_count": 12,
   "metadata": {
    "collapsed": false
   },
   "outputs": [
    {
     "name": "stdout",
     "output_type": "stream",
     "text": [
      "Confusion matrix:\n",
      "[[155   2]\n",
      " [  1 117]]\n",
      "\n",
      "\n",
      "Classification_report:\n",
      "             precision    recall  f1-score   support\n",
      "\n",
      "          0       0.99      0.99      0.99       157\n",
      "          1       0.98      0.99      0.99       118\n",
      "\n",
      "avg / total       0.99      0.99      0.99       275\n",
      "\n",
      "\n",
      "\n",
      "Accuracy_score:\n",
      "0.9890909090909091\n"
     ]
    }
   ],
   "source": [
    "proceed_testing_random_forest_classifier(data, 6)"
   ]
  },
  {
   "cell_type": "code",
   "execution_count": 13,
   "metadata": {
    "collapsed": false
   },
   "outputs": [
    {
     "name": "stdout",
     "output_type": "stream",
     "text": [
      "Confusion matrix:\n",
      "[[155   2]\n",
      " [  1 117]]\n",
      "\n",
      "\n",
      "Classification_report:\n",
      "             precision    recall  f1-score   support\n",
      "\n",
      "          0       0.99      0.99      0.99       157\n",
      "          1       0.98      0.99      0.99       118\n",
      "\n",
      "avg / total       0.99      0.99      0.99       275\n",
      "\n",
      "\n",
      "\n",
      "Accuracy_score:\n",
      "0.9890909090909091\n"
     ]
    }
   ],
   "source": [
    "proceed_testing_random_forest_classifier(data, 20)"
   ]
  },
  {
   "cell_type": "code",
   "execution_count": 14,
   "metadata": {
    "collapsed": false
   },
   "outputs": [
    {
     "name": "stdout",
     "output_type": "stream",
     "text": [
      "Confusion matrix:\n",
      "[[155   2]\n",
      " [  1 117]]\n",
      "\n",
      "\n",
      "Classification_report:\n",
      "             precision    recall  f1-score   support\n",
      "\n",
      "          0       0.99      0.99      0.99       157\n",
      "          1       0.98      0.99      0.99       118\n",
      "\n",
      "avg / total       0.99      0.99      0.99       275\n",
      "\n",
      "\n",
      "\n",
      "Accuracy_score:\n",
      "0.9890909090909091\n"
     ]
    }
   ],
   "source": [
    "proceed_testing_random_forest_classifier(data, 40)"
   ]
  },
  {
   "cell_type": "code",
   "execution_count": 15,
   "metadata": {
    "collapsed": false
   },
   "outputs": [
    {
     "name": "stdout",
     "output_type": "stream",
     "text": [
      "Confusion matrix:\n",
      "[[155   2]\n",
      " [  1 117]]\n",
      "\n",
      "\n",
      "Classification_report:\n",
      "             precision    recall  f1-score   support\n",
      "\n",
      "          0       0.99      0.99      0.99       157\n",
      "          1       0.98      0.99      0.99       118\n",
      "\n",
      "avg / total       0.99      0.99      0.99       275\n",
      "\n",
      "\n",
      "\n",
      "Accuracy_score:\n",
      "0.9890909090909091\n"
     ]
    }
   ],
   "source": [
    "proceed_testing_random_forest_classifier(data, 200)"
   ]
  },
  {
   "cell_type": "code",
   "execution_count": null,
   "metadata": {
    "collapsed": true
   },
   "outputs": [],
   "source": []
  },
  {
   "cell_type": "markdown",
   "metadata": {},
   "source": [
    "Wnioski: Lasy losowe dość dobrze sprawdzają się na testowanym zbiorze danych. Zwiększanie liczby lasów poprawia efektywność klasyfikatora, aczkolwiek skuteczność nie rośnie w nieskończoność. "
   ]
  },
  {
   "cell_type": "code",
   "execution_count": null,
   "metadata": {
    "collapsed": true
   },
   "outputs": [],
   "source": []
  },
  {
   "cell_type": "code",
   "execution_count": 16,
   "metadata": {
    "collapsed": false
   },
   "outputs": [
    {
     "name": "stdout",
     "output_type": "stream",
     "text": [
      "Confusion matrix:\n",
      "[[76  1]\n",
      " [ 0 61]]\n",
      "\n",
      "\n",
      "Classification_report:\n",
      "             precision    recall  f1-score   support\n",
      "\n",
      "          0       1.00      0.99      0.99        77\n",
      "          1       0.98      1.00      0.99        61\n",
      "\n",
      "avg / total       0.99      0.99      0.99       138\n",
      "\n",
      "\n",
      "\n",
      "Accuracy_score:\n",
      "0.9927536231884058\n"
     ]
    }
   ],
   "source": [
    "proceed_testing_random_forest_classifier(data, test_size=0.1)"
   ]
  },
  {
   "cell_type": "code",
   "execution_count": 17,
   "metadata": {
    "collapsed": false
   },
   "outputs": [
    {
     "name": "stdout",
     "output_type": "stream",
     "text": [
      "Confusion matrix:\n",
      "[[155   2]\n",
      " [  1 117]]\n",
      "\n",
      "\n",
      "Classification_report:\n",
      "             precision    recall  f1-score   support\n",
      "\n",
      "          0       0.99      0.99      0.99       157\n",
      "          1       0.98      0.99      0.99       118\n",
      "\n",
      "avg / total       0.99      0.99      0.99       275\n",
      "\n",
      "\n",
      "\n",
      "Accuracy_score:\n",
      "0.9890909090909091\n"
     ]
    }
   ],
   "source": [
    "proceed_testing_random_forest_classifier(data, test_size=0.2)"
   ]
  },
  {
   "cell_type": "code",
   "execution_count": 18,
   "metadata": {
    "collapsed": false
   },
   "outputs": [
    {
     "name": "stdout",
     "output_type": "stream",
     "text": [
      "Confusion matrix:\n",
      "[[229   3]\n",
      " [  2 178]]\n",
      "\n",
      "\n",
      "Classification_report:\n",
      "             precision    recall  f1-score   support\n",
      "\n",
      "          0       0.99      0.99      0.99       232\n",
      "          1       0.98      0.99      0.99       180\n",
      "\n",
      "avg / total       0.99      0.99      0.99       412\n",
      "\n",
      "\n",
      "\n",
      "Accuracy_score:\n",
      "0.9878640776699029\n"
     ]
    }
   ],
   "source": [
    "proceed_testing_random_forest_classifier(data, test_size=0.3)"
   ]
  },
  {
   "cell_type": "code",
   "execution_count": null,
   "metadata": {
    "collapsed": true
   },
   "outputs": [],
   "source": []
  }
 ],
 "metadata": {
  "kernelspec": {
   "display_name": "Python 3",
   "language": "python",
   "name": "python3"
  },
  "language_info": {
   "codemirror_mode": {
    "name": "ipython",
    "version": 3
   },
   "file_extension": ".py",
   "mimetype": "text/x-python",
   "name": "python",
   "nbconvert_exporter": "python",
   "pygments_lexer": "ipython3",
   "version": "3.6.3"
  }
 },
 "nbformat": 4,
 "nbformat_minor": 2
}
