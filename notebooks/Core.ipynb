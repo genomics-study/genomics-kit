{
 "cells": [
  {
   "cell_type": "code",
   "execution_count": 1,
   "metadata": {},
   "outputs": [],
   "source": [
    "import numpy as np\n",
    "import matplotlib.pyplot as plt\n",
    "from sklearn.datasets import load_iris \n",
    "from sklearn.model_selection import train_test_split\n",
    "from sklearn.linear_model import Lasso, Ridge\n",
    "from sklearn.ensemble import RandomForestClassifier\n",
    "from sklearn.svm import SVC\n",
    "from sklearn.feature_selection import RFE"
   ]
  },
  {
   "cell_type": "code",
   "execution_count": 2,
   "metadata": {},
   "outputs": [],
   "source": [
    "dataset = load_iris()\n",
    "X, X_t, y, y_t = train_test_split(dataset['data'], dataset['target'], test_size=0.30)"
   ]
  },
  {
   "cell_type": "code",
   "execution_count": 3,
   "metadata": {},
   "outputs": [],
   "source": [
    "model_descr = {\n",
    "    \"components\": {\n",
    "        \"Lasso_component\": {\n",
    "            \"lasso\": {\"alpha\": 0.1}\n",
    "        },\n",
    "        \"Ridge_component\":{\n",
    "            \"ridge\": {\"alpha\": 0.1},\n",
    "        },\n",
    "        \"Forrest_component\":{\n",
    "            \"forrest\": {\"n_estimators\": 100}\n",
    "        },\n",
    "        \"RFE_SVM_component\":{\n",
    "            \"rfe\": {\n",
    "                \"svm\": {\n",
    "                    \"gamma\": \"scale\", \n",
    "                    \"kernel\": \"linear\"\n",
    "                },\n",
    "                \"verbose\": 1\n",
    "            }\n",
    "        },\n",
    "        \"RFE_Ridge_component\":{\n",
    "            \"rfe\": { \"ridge\": {\"alpha\": 0.1} }\n",
    "        },\n",
    "    }\n",
    "}"
   ]
  },
  {
   "cell_type": "code",
   "execution_count": 4,
   "metadata": {},
   "outputs": [],
   "source": [
    "available_components = {\"lasso\": Lasso, \"ridge\": Ridge, \"forrest\": RandomForestClassifier}\n",
    "available_wrappers = {\"rfe\": RFE}\n",
    "available_classifiers = {\"svm\": SVC}\n",
    "extraction_methods = [\"coef_\", \"feature_importances_\", \"ranking_\"]"
   ]
  },
  {
   "cell_type": "code",
   "execution_count": 5,
   "metadata": {},
   "outputs": [],
   "source": [
    "class Model:\n",
    "    def __init__(self, model_descr):\n",
    "        self.components = {}\n",
    "        available_wrapable = {**available_components, **available_classifiers}\n",
    "        for name, description in model_descr[\"components\"].items():\n",
    "            component, cmp_params = next(iter(description.items()))\n",
    "            if component in available_wrappers.keys():\n",
    "                wrapper = available_wrappers[component]\n",
    "                wrapable_keys = cmp_params.keys() & available_wrapable.keys()\n",
    "                if not wrapable_keys or len(wrapable_keys) > 1 :\n",
    "                    pass # TODO: Throw warning that wrapper won't be included because of lack of classifier/too many classifiers\n",
    "                else:\n",
    "                    wrapable_key = wrapable_keys.pop()\n",
    "                    wrapable = available_wrapable[wrapable_key](**cmp_params[wrapable_key])\n",
    "                    parsed_params = cmp_params.copy()\n",
    "                    parsed_params[\"estimator\"] = wrapable\n",
    "                    parsed_params.pop(wrapable_key,None)\n",
    "                    self.components[name] = wrapper(**parsed_params)\n",
    "            else:\n",
    "                self.components[name] = available_components[component](**cmp_params)\n",
    "        \n",
    "    def fit(self, X, y):\n",
    "        for component in self.components.values():\n",
    "            component.fit(X, y)\n",
    "    \n",
    "    def predict(self, X):\n",
    "        return np.array([component.predict(X) for component in self.components.values()])\n",
    "    \n",
    "    def validate(self, X, y):\n",
    "        def missclassification_rate(X_pred, y_t):\n",
    "            return np.sum(np.round(X_pred) != y_t)/X_pred.shape[0]\n",
    "        predictions = self.predict(X)\n",
    "        return np.array([missclassification_rate(pred, y_t) for pred in predictions])\n",
    "    \n",
    "    def feature_ranking(self):\n",
    "        def _get_proper_attribute(component):\n",
    "            component_methods = set(dir(component))\n",
    "            found_method = (component_methods & set(extraction_methods)).pop()\n",
    "            return getattr(component, found_method)\n",
    "        return np.array([_get_proper_attribute(component) for component in self.components.values()])\n",
    "        \n",
    "    \n",
    "    def __repr__(self):\n",
    "        return \"Components:\\n\\n\" + \"\\n\\n\".join([str(c) for c in self.components.items()]) + \"\\n\\nEnsemble method:\\n\\n[TODO]\""
   ]
  },
  {
   "cell_type": "code",
   "execution_count": 6,
   "metadata": {},
   "outputs": [
    {
     "data": {
      "text/plain": [
       "Components:\n",
       "\n",
       "('Lasso_component', Lasso(alpha=0.1, copy_X=True, fit_intercept=True, max_iter=1000,\n",
       "      normalize=False, positive=False, precompute=False, random_state=None,\n",
       "      selection='cyclic', tol=0.0001, warm_start=False))\n",
       "\n",
       "('Ridge_component', Ridge(alpha=0.1, copy_X=True, fit_intercept=True, max_iter=None,\n",
       "      normalize=False, random_state=None, solver='auto', tol=0.001))\n",
       "\n",
       "('Forrest_component', RandomForestClassifier(bootstrap=True, class_weight=None, criterion='gini',\n",
       "                       max_depth=None, max_features='auto', max_leaf_nodes=None,\n",
       "                       min_impurity_decrease=0.0, min_impurity_split=None,\n",
       "                       min_samples_leaf=1, min_samples_split=2,\n",
       "                       min_weight_fraction_leaf=0.0, n_estimators=100,\n",
       "                       n_jobs=None, oob_score=False, random_state=None,\n",
       "                       verbose=0, warm_start=False))\n",
       "\n",
       "('RFE_SVM_component', RFE(estimator=SVC(C=1.0, cache_size=200, class_weight=None, coef0=0.0,\n",
       "                  decision_function_shape='ovr', degree=3, gamma='scale',\n",
       "                  kernel='linear', max_iter=-1, probability=False,\n",
       "                  random_state=None, shrinking=True, tol=0.001, verbose=False),\n",
       "    n_features_to_select=None, step=1, verbose=1))\n",
       "\n",
       "('RFE_Ridge_component', RFE(estimator=Ridge(alpha=0.1, copy_X=True, fit_intercept=True, max_iter=None,\n",
       "                    normalize=False, random_state=None, solver='auto',\n",
       "                    tol=0.001),\n",
       "    n_features_to_select=None, step=1, verbose=0))\n",
       "\n",
       "Ensemble method:\n",
       "\n",
       "[TODO]"
      ]
     },
     "execution_count": 6,
     "metadata": {},
     "output_type": "execute_result"
    }
   ],
   "source": [
    "model = Model(model_descr)\n",
    "model"
   ]
  },
  {
   "cell_type": "code",
   "execution_count": 7,
   "metadata": {},
   "outputs": [
    {
     "name": "stdout",
     "output_type": "stream",
     "text": [
      "Fitting estimator with 4 features.\n",
      "Fitting estimator with 3 features.\n"
     ]
    }
   ],
   "source": [
    "model.fit(X, y)"
   ]
  },
  {
   "cell_type": "code",
   "execution_count": 8,
   "metadata": {},
   "outputs": [
    {
     "data": {
      "text/plain": [
       "array([0.08888889, 0.04444444, 0.08888889, 0.06666667, 0.08888889])"
      ]
     },
     "execution_count": 8,
     "metadata": {},
     "output_type": "execute_result"
    }
   ],
   "source": [
    "model.validate(X_t, y_t)"
   ]
  },
  {
   "cell_type": "code",
   "execution_count": 9,
   "metadata": {},
   "outputs": [
    {
     "data": {
      "text/plain": [
       "array([[ 0.        , -0.        ,  0.41497871,  0.        ],\n",
       "       [-0.13847884,  0.00695683,  0.2958312 ,  0.50294318],\n",
       "       [ 0.09266584,  0.00651644,  0.46567182,  0.4351459 ],\n",
       "       [ 3.        ,  2.        ,  1.        ,  1.        ],\n",
       "       [ 2.        ,  3.        ,  1.        ,  1.        ]])"
      ]
     },
     "execution_count": 9,
     "metadata": {},
     "output_type": "execute_result"
    }
   ],
   "source": [
    "model.feature_ranking()"
   ]
  },
  {
   "cell_type": "code",
   "execution_count": null,
   "metadata": {},
   "outputs": [],
   "source": []
  }
 ],
 "metadata": {
  "kernelspec": {
   "display_name": "Python 3",
   "language": "python",
   "name": "python3"
  },
  "language_info": {
   "codemirror_mode": {
    "name": "ipython",
    "version": 3
   },
   "file_extension": ".py",
   "mimetype": "text/x-python",
   "name": "python",
   "nbconvert_exporter": "python",
   "pygments_lexer": "ipython3",
   "version": "3.6.2"
  }
 },
 "nbformat": 4,
 "nbformat_minor": 2
}
